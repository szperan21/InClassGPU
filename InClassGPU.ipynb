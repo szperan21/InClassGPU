{
  "nbformat": 4,
  "nbformat_minor": 0,
  "metadata": {
    "colab": {
      "provenance": [],
      "gpuType": "T4",
      "authorship_tag": "ABX9TyM3gtepsEzpZRdwJ0kzwiUS",
      "include_colab_link": true
    },
    "kernelspec": {
      "name": "python3",
      "display_name": "Python 3"
    },
    "language_info": {
      "name": "python"
    },
    "accelerator": "GPU"
  },
  "cells": [
    {
      "cell_type": "markdown",
      "metadata": {
        "id": "view-in-github",
        "colab_type": "text"
      },
      "source": [
        "<a href=\"https://colab.research.google.com/github/szperan21/InClassGPU/blob/main/InClassGPU.ipynb\" target=\"_parent\"><img src=\"https://colab.research.google.com/assets/colab-badge.svg\" alt=\"Open In Colab\"/></a>"
      ]
    },
    {
      "cell_type": "code",
      "execution_count": 1,
      "metadata": {
        "id": "710ZrtH1FO6W"
      },
      "outputs": [],
      "source": [
        "import numpy as np\n",
        "size = 8192 * 8192\n",
        "array = np.random.random(size).astype(np.float32)"
      ]
    },
    {
      "cell_type": "code",
      "source": [],
      "metadata": {
        "id": "0mIe5O59LK_Y"
      },
      "execution_count": null,
      "outputs": []
    },
    {
      "cell_type": "code",
      "source": [
        "%timeit -n 1 -r 1 result = np.sort(array)"
      ],
      "metadata": {
        "colab": {
          "base_uri": "https://localhost:8080/"
        },
        "id": "CIbe5p1gK1ea",
        "outputId": "d229b70a-0fbf-4c15-9c64-e61b8d0f727e"
      },
      "execution_count": 2,
      "outputs": [
        {
          "output_type": "stream",
          "name": "stdout",
          "text": [
            "1.09 s ± 0 ns per loop (mean ± std. dev. of 1 run, 1 loop each)\n"
          ]
        }
      ]
    },
    {
      "cell_type": "code",
      "source": [
        "import cupy as cp\n",
        "array_gpu = cp.asarray(array)\n",
        "%timeit -n 7 -r 1 result_gpu = cp.sort(array_gpu)"
      ],
      "metadata": {
        "colab": {
          "base_uri": "https://localhost:8080/"
        },
        "id": "ZZnj8ijlK6Ak",
        "outputId": "68f163fc-aaf4-4b83-d02b-6e4e7d4bfd5b"
      },
      "execution_count": 3,
      "outputs": [
        {
          "output_type": "stream",
          "name": "stdout",
          "text": [
            "144 ms ± 0 ns per loop (mean ± std. dev. of 1 run, 7 loops each)\n"
          ]
        }
      ]
    },
    {
      "cell_type": "code",
      "source": [
        "# Construct an image with repeated delta functions\n",
        "deltas = np.zeros((4096, 4096))\n",
        "deltas[8::16,8::16] = 1"
      ],
      "metadata": {
        "id": "QAQ3ju3FK6Hj"
      },
      "execution_count": 4,
      "outputs": []
    },
    {
      "cell_type": "code",
      "source": [
        "import pylab as pyl\n",
        "# Necessary command to render a matplotlib image in a Jupyter notebook.\n",
        "%matplotlib inline\n",
        "\n",
        "# Display the image\n",
        "pyl.imshow(deltas[0:100, 0:100])\n",
        "pyl.show()"
      ],
      "metadata": {
        "id": "nmUVrEGyLzRc"
      },
      "execution_count": null,
      "outputs": []
    },
    {
      "cell_type": "code",
      "source": [
        "x, y = np.meshgrid(np.linspace(-2, 2, 15), np.linspace(-2, 2, 15))\n",
        "dst = np.sqrt(x*x + y*y)\n",
        "sigma = 1\n",
        "muu = 0.000\n",
        "pyl.imshow(dst,interpolation='bicubic')\n",
        "pyl.show()"
      ],
      "metadata": {
        "id": "CqvHgiLKL4Ra"
      },
      "execution_count": null,
      "outputs": []
    }
  ]
}